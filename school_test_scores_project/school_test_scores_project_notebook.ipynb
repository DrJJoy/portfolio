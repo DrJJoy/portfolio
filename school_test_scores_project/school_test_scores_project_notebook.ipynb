{
 "cells": [
  {
   "cell_type": "markdown",
   "id": "10912694",
   "metadata": {},
   "source": [
    "Project: Exploring NYC Public School Test Result Scores\n",
    "\n",
    "Every year, American high school students take SATs, which are standardized tests intended to measure literacy, numeracy, and writing skills. There are three sections - reading, math, and writing, each with a maximum score of 800 points. These tests are extremely important for students and colleges, as they play a pivotal role in the admissions process.\n",
    "Analyzing the performance of schools is important for a variety of stakeholders, including policy and education professionals, researchers, government, and even parents considering which school their children should attend.\n",
    "The task is answering three key questions about New York City (NYC) public school SAT performance:\n",
    "\n",
    "1. Which schools produce the highest math scores?\n",
    "•\tSpecifically, which schools have an average math SAT score of at least 80%?\n",
    "\n",
    "2. Who are the top 10 schools based on average results across reading, math, and writing?\n",
    "\n",
    "3. Which NYC borough has the largest standard deviation for SAT results?"
   ]
  },
  {
   "cell_type": "code",
   "execution_count": 1,
   "id": "c4711ae3",
   "metadata": {},
   "outputs": [],
   "source": [
    "import pandas as pd\n",
    "data = pd.read_csv('schools.csv')"
   ]
  },
  {
   "cell_type": "code",
   "execution_count": 2,
   "id": "197dac9e",
   "metadata": {},
   "outputs": [
    {
     "data": {
      "text/html": [
       "<div>\n",
       "<style scoped>\n",
       "    .dataframe tbody tr th:only-of-type {\n",
       "        vertical-align: middle;\n",
       "    }\n",
       "\n",
       "    .dataframe tbody tr th {\n",
       "        vertical-align: top;\n",
       "    }\n",
       "\n",
       "    .dataframe thead th {\n",
       "        text-align: right;\n",
       "    }\n",
       "</style>\n",
       "<table border=\"1\" class=\"dataframe\">\n",
       "  <thead>\n",
       "    <tr style=\"text-align: right;\">\n",
       "      <th></th>\n",
       "      <th>school_name</th>\n",
       "      <th>borough</th>\n",
       "      <th>building_code</th>\n",
       "      <th>average_math</th>\n",
       "      <th>average_reading</th>\n",
       "      <th>average_writing</th>\n",
       "      <th>percent_tested</th>\n",
       "    </tr>\n",
       "  </thead>\n",
       "  <tbody>\n",
       "    <tr>\n",
       "      <th>0</th>\n",
       "      <td>New Explorations into Science, Technology and ...</td>\n",
       "      <td>Manhattan</td>\n",
       "      <td>M022</td>\n",
       "      <td>657</td>\n",
       "      <td>601</td>\n",
       "      <td>601</td>\n",
       "      <td>NaN</td>\n",
       "    </tr>\n",
       "    <tr>\n",
       "      <th>1</th>\n",
       "      <td>Essex Street Academy</td>\n",
       "      <td>Manhattan</td>\n",
       "      <td>M445</td>\n",
       "      <td>395</td>\n",
       "      <td>411</td>\n",
       "      <td>387</td>\n",
       "      <td>78.9</td>\n",
       "    </tr>\n",
       "  </tbody>\n",
       "</table>\n",
       "</div>"
      ],
      "text/plain": [
       "                                         school_name    borough building_code  \\\n",
       "0  New Explorations into Science, Technology and ...  Manhattan          M022   \n",
       "1                               Essex Street Academy  Manhattan          M445   \n",
       "\n",
       "   average_math  average_reading  average_writing  percent_tested  \n",
       "0           657              601              601             NaN  \n",
       "1           395              411              387            78.9  "
      ]
     },
     "execution_count": 2,
     "metadata": {},
     "output_type": "execute_result"
    }
   ],
   "source": [
    "data.head(2)"
   ]
  },
  {
   "cell_type": "code",
   "execution_count": 3,
   "id": "34e70d78",
   "metadata": {},
   "outputs": [
    {
     "name": "stdout",
     "output_type": "stream",
     "text": [
      "<class 'pandas.core.frame.DataFrame'>\n",
      "RangeIndex: 375 entries, 0 to 374\n",
      "Data columns (total 7 columns):\n",
      " #   Column           Non-Null Count  Dtype  \n",
      "---  ------           --------------  -----  \n",
      " 0   school_name      375 non-null    object \n",
      " 1   borough          375 non-null    object \n",
      " 2   building_code    375 non-null    object \n",
      " 3   average_math     375 non-null    int64  \n",
      " 4   average_reading  375 non-null    int64  \n",
      " 5   average_writing  375 non-null    int64  \n",
      " 6   percent_tested   355 non-null    float64\n",
      "dtypes: float64(1), int64(3), object(3)\n",
      "memory usage: 20.6+ KB\n"
     ]
    }
   ],
   "source": [
    "data.info()"
   ]
  },
  {
   "cell_type": "code",
   "execution_count": 4,
   "id": "28675553",
   "metadata": {},
   "outputs": [],
   "source": [
    "best_math_schools = data[data[\"average_math\"] >= 640][['school_name', 'average_math']].sort_values('average_math', ascending=False)"
   ]
  },
  {
   "cell_type": "code",
   "execution_count": 5,
   "id": "afefa9c1",
   "metadata": {},
   "outputs": [
    {
     "data": {
      "text/html": [
       "<div>\n",
       "<style scoped>\n",
       "    .dataframe tbody tr th:only-of-type {\n",
       "        vertical-align: middle;\n",
       "    }\n",
       "\n",
       "    .dataframe tbody tr th {\n",
       "        vertical-align: top;\n",
       "    }\n",
       "\n",
       "    .dataframe thead th {\n",
       "        text-align: right;\n",
       "    }\n",
       "</style>\n",
       "<table border=\"1\" class=\"dataframe\">\n",
       "  <thead>\n",
       "    <tr style=\"text-align: right;\">\n",
       "      <th></th>\n",
       "      <th>school_name</th>\n",
       "      <th>average_math</th>\n",
       "    </tr>\n",
       "  </thead>\n",
       "  <tbody>\n",
       "    <tr>\n",
       "      <th>88</th>\n",
       "      <td>Stuyvesant High School</td>\n",
       "      <td>754</td>\n",
       "    </tr>\n",
       "    <tr>\n",
       "      <th>170</th>\n",
       "      <td>Bronx High School of Science</td>\n",
       "      <td>714</td>\n",
       "    </tr>\n",
       "  </tbody>\n",
       "</table>\n",
       "</div>"
      ],
      "text/plain": [
       "                      school_name  average_math\n",
       "88         Stuyvesant High School           754\n",
       "170  Bronx High School of Science           714"
      ]
     },
     "execution_count": 5,
     "metadata": {},
     "output_type": "execute_result"
    }
   ],
   "source": [
    "best_math_schools.head(2)"
   ]
  },
  {
   "cell_type": "code",
   "execution_count": 6,
   "id": "df81b2ef",
   "metadata": {},
   "outputs": [
    {
     "data": {
      "text/html": [
       "<div>\n",
       "<style scoped>\n",
       "    .dataframe tbody tr th:only-of-type {\n",
       "        vertical-align: middle;\n",
       "    }\n",
       "\n",
       "    .dataframe tbody tr th {\n",
       "        vertical-align: top;\n",
       "    }\n",
       "\n",
       "    .dataframe thead th {\n",
       "        text-align: right;\n",
       "    }\n",
       "</style>\n",
       "<table border=\"1\" class=\"dataframe\">\n",
       "  <thead>\n",
       "    <tr style=\"text-align: right;\">\n",
       "      <th></th>\n",
       "      <th>school_name</th>\n",
       "      <th>borough</th>\n",
       "      <th>building_code</th>\n",
       "      <th>average_math</th>\n",
       "      <th>average_reading</th>\n",
       "      <th>average_writing</th>\n",
       "      <th>percent_tested</th>\n",
       "      <th>total_SAT</th>\n",
       "    </tr>\n",
       "  </thead>\n",
       "  <tbody>\n",
       "    <tr>\n",
       "      <th>0</th>\n",
       "      <td>New Explorations into Science, Technology and ...</td>\n",
       "      <td>Manhattan</td>\n",
       "      <td>M022</td>\n",
       "      <td>657</td>\n",
       "      <td>601</td>\n",
       "      <td>601</td>\n",
       "      <td>NaN</td>\n",
       "      <td>1859</td>\n",
       "    </tr>\n",
       "    <tr>\n",
       "      <th>1</th>\n",
       "      <td>Essex Street Academy</td>\n",
       "      <td>Manhattan</td>\n",
       "      <td>M445</td>\n",
       "      <td>395</td>\n",
       "      <td>411</td>\n",
       "      <td>387</td>\n",
       "      <td>78.9</td>\n",
       "      <td>1193</td>\n",
       "    </tr>\n",
       "  </tbody>\n",
       "</table>\n",
       "</div>"
      ],
      "text/plain": [
       "                                         school_name    borough building_code  \\\n",
       "0  New Explorations into Science, Technology and ...  Manhattan          M022   \n",
       "1                               Essex Street Academy  Manhattan          M445   \n",
       "\n",
       "   average_math  average_reading  average_writing  percent_tested  total_SAT  \n",
       "0           657              601              601             NaN       1859  \n",
       "1           395              411              387            78.9       1193  "
      ]
     },
     "execution_count": 6,
     "metadata": {},
     "output_type": "execute_result"
    }
   ],
   "source": [
    "data['total_SAT'] = data['average_reading'] + data['average_math'] + data['average_writing']\n",
    "data.head(2)"
   ]
  },
  {
   "cell_type": "code",
   "execution_count": 7,
   "id": "c6119655",
   "metadata": {},
   "outputs": [],
   "source": [
    "top_10_schools = data.groupby('school_name', as_index=False)['total_SAT'].mean().sort_values('total_SAT', ascending=False).head(10)"
   ]
  },
  {
   "cell_type": "code",
   "execution_count": 8,
   "id": "4b6258d3",
   "metadata": {},
   "outputs": [
    {
     "data": {
      "text/html": [
       "<div>\n",
       "<style scoped>\n",
       "    .dataframe tbody tr th:only-of-type {\n",
       "        vertical-align: middle;\n",
       "    }\n",
       "\n",
       "    .dataframe tbody tr th {\n",
       "        vertical-align: top;\n",
       "    }\n",
       "\n",
       "    .dataframe thead th {\n",
       "        text-align: right;\n",
       "    }\n",
       "</style>\n",
       "<table border=\"1\" class=\"dataframe\">\n",
       "  <thead>\n",
       "    <tr style=\"text-align: right;\">\n",
       "      <th></th>\n",
       "      <th>school_name</th>\n",
       "      <th>total_SAT</th>\n",
       "    </tr>\n",
       "  </thead>\n",
       "  <tbody>\n",
       "    <tr>\n",
       "      <th>325</th>\n",
       "      <td>Stuyvesant High School</td>\n",
       "      <td>2144.0</td>\n",
       "    </tr>\n",
       "    <tr>\n",
       "      <th>324</th>\n",
       "      <td>Staten Island Technical High School</td>\n",
       "      <td>2041.0</td>\n",
       "    </tr>\n",
       "    <tr>\n",
       "      <th>55</th>\n",
       "      <td>Bronx High School of Science</td>\n",
       "      <td>2041.0</td>\n",
       "    </tr>\n",
       "    <tr>\n",
       "      <th>188</th>\n",
       "      <td>High School of American Studies at Lehman College</td>\n",
       "      <td>2013.0</td>\n",
       "    </tr>\n",
       "    <tr>\n",
       "      <th>334</th>\n",
       "      <td>Townsend Harris High School</td>\n",
       "      <td>1981.0</td>\n",
       "    </tr>\n",
       "    <tr>\n",
       "      <th>293</th>\n",
       "      <td>Queens High School for the Sciences at York Co...</td>\n",
       "      <td>1947.0</td>\n",
       "    </tr>\n",
       "    <tr>\n",
       "      <th>30</th>\n",
       "      <td>Bard High School Early College</td>\n",
       "      <td>1914.0</td>\n",
       "    </tr>\n",
       "    <tr>\n",
       "      <th>83</th>\n",
       "      <td>Brooklyn Technical High School</td>\n",
       "      <td>1896.0</td>\n",
       "    </tr>\n",
       "    <tr>\n",
       "      <th>121</th>\n",
       "      <td>Eleanor Roosevelt High School</td>\n",
       "      <td>1889.0</td>\n",
       "    </tr>\n",
       "    <tr>\n",
       "      <th>180</th>\n",
       "      <td>High School for Mathematics, Science, and Engi...</td>\n",
       "      <td>1889.0</td>\n",
       "    </tr>\n",
       "  </tbody>\n",
       "</table>\n",
       "</div>"
      ],
      "text/plain": [
       "                                           school_name  total_SAT\n",
       "325                             Stuyvesant High School     2144.0\n",
       "324                Staten Island Technical High School     2041.0\n",
       "55                        Bronx High School of Science     2041.0\n",
       "188  High School of American Studies at Lehman College     2013.0\n",
       "334                        Townsend Harris High School     1981.0\n",
       "293  Queens High School for the Sciences at York Co...     1947.0\n",
       "30                      Bard High School Early College     1914.0\n",
       "83                      Brooklyn Technical High School     1896.0\n",
       "121                      Eleanor Roosevelt High School     1889.0\n",
       "180  High School for Mathematics, Science, and Engi...     1889.0"
      ]
     },
     "execution_count": 8,
     "metadata": {},
     "output_type": "execute_result"
    }
   ],
   "source": [
    "top_10_schools"
   ]
  },
  {
   "cell_type": "code",
   "execution_count": 9,
   "id": "a2175551",
   "metadata": {},
   "outputs": [],
   "source": [
    "boroughs = data.groupby('borough')['total_SAT'].agg(['count', 'mean', 'std']).round(2)\n",
    "largest_std_dev = boroughs[boroughs['std'] == boroughs['std'].max()].reset_index()\n",
    "largest_std_dev.rename(columns={'count' : 'num_schools', 'mean' : 'average_SAT', 'std' : 'std_SAT'}, inplace=True)"
   ]
  },
  {
   "cell_type": "code",
   "execution_count": 13,
   "id": "b853f32e",
   "metadata": {},
   "outputs": [
    {
     "data": {
      "text/html": [
       "<div>\n",
       "<style scoped>\n",
       "    .dataframe tbody tr th:only-of-type {\n",
       "        vertical-align: middle;\n",
       "    }\n",
       "\n",
       "    .dataframe tbody tr th {\n",
       "        vertical-align: top;\n",
       "    }\n",
       "\n",
       "    .dataframe thead th {\n",
       "        text-align: right;\n",
       "    }\n",
       "</style>\n",
       "<table border=\"1\" class=\"dataframe\">\n",
       "  <thead>\n",
       "    <tr style=\"text-align: right;\">\n",
       "      <th></th>\n",
       "      <th>borough</th>\n",
       "      <th>num_schools</th>\n",
       "      <th>average_SAT</th>\n",
       "      <th>std_SAT</th>\n",
       "    </tr>\n",
       "  </thead>\n",
       "  <tbody>\n",
       "    <tr>\n",
       "      <th>0</th>\n",
       "      <td>Manhattan</td>\n",
       "      <td>89</td>\n",
       "      <td>1340.13</td>\n",
       "      <td>230.29</td>\n",
       "    </tr>\n",
       "  </tbody>\n",
       "</table>\n",
       "</div>"
      ],
      "text/plain": [
       "     borough  num_schools  average_SAT  std_SAT\n",
       "0  Manhattan           89      1340.13   230.29"
      ]
     },
     "execution_count": 13,
     "metadata": {},
     "output_type": "execute_result"
    }
   ],
   "source": [
    "largest_std_dev"
   ]
  },
  {
   "cell_type": "code",
   "execution_count": null,
   "id": "050dbd49",
   "metadata": {},
   "outputs": [],
   "source": []
  }
 ],
 "metadata": {
  "kernelspec": {
   "display_name": "Python 3 (ipykernel)",
   "language": "python",
   "name": "python3"
  },
  "language_info": {
   "codemirror_mode": {
    "name": "ipython",
    "version": 3
   },
   "file_extension": ".py",
   "mimetype": "text/x-python",
   "name": "python",
   "nbconvert_exporter": "python",
   "pygments_lexer": "ipython3",
   "version": "3.9.7"
  }
 },
 "nbformat": 4,
 "nbformat_minor": 5
}
