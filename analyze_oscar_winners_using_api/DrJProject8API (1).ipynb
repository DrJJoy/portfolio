{
 "cells": [
  {
   "cell_type": "code",
   "execution_count": 12,
   "id": "7c6843cb",
   "metadata": {},
   "outputs": [],
   "source": [
    "import requests\n",
    "import pandas as pd\n",
    "\n",
    "with open(f'api.key', 'r') as k:\n",
    "    api_key = k.readline().strip()\n",
    "\n",
    "url = f'https://www.omdbapi.com/?apikey={api_key}&i='\n",
    "movie_content = []\n",
    "with open(f'oscar_winners.csv', 'r') as a:\n",
    "    for index, line in enumerate(a):\n",
    "        if index == 0:\n",
    "            continue\n",
    "        omdb = line.strip().split(',')[1]\n",
    "        url_to_fetch = url + omdb\n",
    "        r = requests.get(url_to_fetch)\n",
    "        movie_content.append(r.json())\n",
    "\n",
    "clean_data =[]\n",
    "for line in movie_content:\n",
    "    title = line['Title']\n",
    "    runtime_mins = int(line['Runtime'].split(' ')[0])\n",
    "    genre = line['Genre']\n",
    "    wins_nominations = line['Awards'].split('.')[1]\n",
    "    wins_nominations = wins_nominations.split('&')\n",
    "    wins = int(wins_nominations[0].strip().split(' ')[0])\n",
    "    nominations = int(wins_nominations[1].strip().split(' ')[0])\n",
    "    box_office_dollars = int(line['BoxOffice'][1:].replace(',',\"\"))\n",
    "    clean_data.append([title, runtime_mins, genre, wins, nominations, box_office_dollars])\n",
    "\n",
    "\n",
    "movies = pd.DataFrame(clean_data)\n"
   ]
  },
  {
   "cell_type": "code",
   "execution_count": 3,
   "id": "d0663828",
   "metadata": {},
   "outputs": [
    {
     "name": "stdout",
     "output_type": "stream",
     "text": [
      "<class 'pandas.core.frame.DataFrame'>\n",
      "RangeIndex: 10 entries, 0 to 9\n",
      "Data columns (total 6 columns):\n",
      " #   Column  Non-Null Count  Dtype \n",
      "---  ------  --------------  ----- \n",
      " 0   0       10 non-null     object\n",
      " 1   1       10 non-null     int64 \n",
      " 2   2       10 non-null     object\n",
      " 3   3       10 non-null     int64 \n",
      " 4   4       10 non-null     int64 \n",
      " 5   5       10 non-null     int64 \n",
      "dtypes: int64(4), object(2)\n",
      "memory usage: 608.0+ bytes\n"
     ]
    }
   ],
   "source": [
    "movies.info()"
   ]
  },
  {
   "cell_type": "code",
   "execution_count": 13,
   "id": "e4dc3260",
   "metadata": {},
   "outputs": [
    {
     "data": {
      "text/html": [
       "<div>\n",
       "<style scoped>\n",
       "    .dataframe tbody tr th:only-of-type {\n",
       "        vertical-align: middle;\n",
       "    }\n",
       "\n",
       "    .dataframe tbody tr th {\n",
       "        vertical-align: top;\n",
       "    }\n",
       "\n",
       "    .dataframe thead th {\n",
       "        text-align: right;\n",
       "    }\n",
       "</style>\n",
       "<table border=\"1\" class=\"dataframe\">\n",
       "  <thead>\n",
       "    <tr style=\"text-align: right;\">\n",
       "      <th></th>\n",
       "      <th>Title</th>\n",
       "      <th>Runtime</th>\n",
       "      <th>Genre</th>\n",
       "      <th>Award Wins</th>\n",
       "      <th>Award Nominations</th>\n",
       "      <th>Box Office</th>\n",
       "    </tr>\n",
       "  </thead>\n",
       "  <tbody>\n",
       "    <tr>\n",
       "      <th>0</th>\n",
       "      <td>Parasite</td>\n",
       "      <td>132</td>\n",
       "      <td>Comedy, Drama, Thriller</td>\n",
       "      <td>308</td>\n",
       "      <td>271</td>\n",
       "      <td>53369749</td>\n",
       "    </tr>\n",
       "    <tr>\n",
       "      <th>1</th>\n",
       "      <td>Green Book</td>\n",
       "      <td>130</td>\n",
       "      <td>Biography, Comedy, Drama</td>\n",
       "      <td>59</td>\n",
       "      <td>124</td>\n",
       "      <td>85080171</td>\n",
       "    </tr>\n",
       "    <tr>\n",
       "      <th>2</th>\n",
       "      <td>The Shape of Water</td>\n",
       "      <td>123</td>\n",
       "      <td>Drama, Fantasy, Romance</td>\n",
       "      <td>138</td>\n",
       "      <td>358</td>\n",
       "      <td>63859435</td>\n",
       "    </tr>\n",
       "    <tr>\n",
       "      <th>3</th>\n",
       "      <td>Moonlight</td>\n",
       "      <td>111</td>\n",
       "      <td>Drama</td>\n",
       "      <td>228</td>\n",
       "      <td>296</td>\n",
       "      <td>27854932</td>\n",
       "    </tr>\n",
       "    <tr>\n",
       "      <th>4</th>\n",
       "      <td>Spotlight</td>\n",
       "      <td>129</td>\n",
       "      <td>Biography, Crime, Drama</td>\n",
       "      <td>124</td>\n",
       "      <td>143</td>\n",
       "      <td>45055776</td>\n",
       "    </tr>\n",
       "    <tr>\n",
       "      <th>5</th>\n",
       "      <td>Birdman or (The Unexpected Virtue of Ignorance)</td>\n",
       "      <td>119</td>\n",
       "      <td>Comedy, Drama</td>\n",
       "      <td>193</td>\n",
       "      <td>292</td>\n",
       "      <td>42340598</td>\n",
       "    </tr>\n",
       "    <tr>\n",
       "      <th>6</th>\n",
       "      <td>12 Years a Slave</td>\n",
       "      <td>134</td>\n",
       "      <td>Biography, Drama, History</td>\n",
       "      <td>242</td>\n",
       "      <td>336</td>\n",
       "      <td>56671993</td>\n",
       "    </tr>\n",
       "    <tr>\n",
       "      <th>7</th>\n",
       "      <td>Argo</td>\n",
       "      <td>120</td>\n",
       "      <td>Biography, Drama, Thriller</td>\n",
       "      <td>94</td>\n",
       "      <td>156</td>\n",
       "      <td>136025503</td>\n",
       "    </tr>\n",
       "    <tr>\n",
       "      <th>8</th>\n",
       "      <td>The Artist</td>\n",
       "      <td>100</td>\n",
       "      <td>Comedy, Drama, Romance</td>\n",
       "      <td>162</td>\n",
       "      <td>204</td>\n",
       "      <td>44671682</td>\n",
       "    </tr>\n",
       "    <tr>\n",
       "      <th>9</th>\n",
       "      <td>The King's Speech</td>\n",
       "      <td>118</td>\n",
       "      <td>Biography, Drama, History</td>\n",
       "      <td>108</td>\n",
       "      <td>206</td>\n",
       "      <td>138797449</td>\n",
       "    </tr>\n",
       "  </tbody>\n",
       "</table>\n",
       "</div>"
      ],
      "text/plain": [
       "                                             Title  Runtime  \\\n",
       "0                                         Parasite      132   \n",
       "1                                       Green Book      130   \n",
       "2                               The Shape of Water      123   \n",
       "3                                        Moonlight      111   \n",
       "4                                        Spotlight      129   \n",
       "5  Birdman or (The Unexpected Virtue of Ignorance)      119   \n",
       "6                                 12 Years a Slave      134   \n",
       "7                                             Argo      120   \n",
       "8                                       The Artist      100   \n",
       "9                                The King's Speech      118   \n",
       "\n",
       "                        Genre  Award Wins  Award Nominations  Box Office  \n",
       "0     Comedy, Drama, Thriller         308                271    53369749  \n",
       "1    Biography, Comedy, Drama          59                124    85080171  \n",
       "2     Drama, Fantasy, Romance         138                358    63859435  \n",
       "3                       Drama         228                296    27854932  \n",
       "4     Biography, Crime, Drama         124                143    45055776  \n",
       "5               Comedy, Drama         193                292    42340598  \n",
       "6   Biography, Drama, History         242                336    56671993  \n",
       "7  Biography, Drama, Thriller          94                156   136025503  \n",
       "8      Comedy, Drama, Romance         162                204    44671682  \n",
       "9   Biography, Drama, History         108                206   138797449  "
      ]
     },
     "execution_count": 13,
     "metadata": {},
     "output_type": "execute_result"
    }
   ],
   "source": [
    "movies.rename(columns={0:'Title', 1: 'Runtime', 2: 'Genre', 3: 'Award Wins', 4: 'Award Nominations', 5: 'Box Office'})\n"
   ]
  },
  {
   "cell_type": "code",
   "execution_count": 19,
   "id": "360d4892",
   "metadata": {},
   "outputs": [],
   "source": [
    "movies.to_csv(r'C:/Users/bbsj4/Desktop/Data Analyst Cert Treehouse/UNIT_8/Project8/movie.csv', index=True)"
   ]
  },
  {
   "cell_type": "code",
   "execution_count": 26,
   "id": "8d85be8b",
   "metadata": {},
   "outputs": [],
   "source": [
    "import pandas as pd\n",
    "import matplotlib.pyplot as plt\n",
    "import seaborn as sns"
   ]
  },
  {
   "cell_type": "code",
   "execution_count": 30,
   "id": "e6fe078b",
   "metadata": {},
   "outputs": [],
   "source": [
    "data = pd.read_csv(r'C:/Users/bbsj4/Desktop/Data Analyst Cert Treehouse/UNIT_8/Project8/movie.csv')"
   ]
  },
  {
   "cell_type": "markdown",
   "id": "cf06e833",
   "metadata": {},
   "source": [
    "a.\t(Graph) What was the runtime for each movie? \n",
    "b.\tWhat movie had the longest runtime? \n",
    "c.\tIs there any relationship between the length of the movie (runtime) and the number of awards a movie won? \n",
    "d.\t(Graph) How many awards and nominations did each movie receive? \n"
   ]
  },
  {
   "cell_type": "code",
   "execution_count": 39,
   "id": "59f6c2ef",
   "metadata": {},
   "outputs": [
    {
     "data": {
      "text/plain": [
       "<BarContainer object of 10 artists>"
      ]
     },
     "execution_count": 39,
     "metadata": {},
     "output_type": "execute_result"
    },
    {
     "data": {
      "image/png": "[encoded data removed]",
      "text/plain": [
       "<Figure size 432x288 with 1 Axes>"
      ]
     },
     "metadata": {
      "needs_background": "light"
     },
     "output_type": "display_data"
    }
   ],
   "source": [
    "plt.xlabel('Movie Title')\n",
    "plt.ylabel('Runtime')\n",
    "plt.title('MovieRuntimes', fontsize=16)\n",
    "plt.xticks(rotation=90)\n",
    "\n",
    "plt.bar(data[\"Title\"], data[\"Runtime\"])"
   ]
  },
  {
   "cell_type": "code",
   "execution_count": 46,
   "id": "38bdfd46",
   "metadata": {},
   "outputs": [
    {
     "data": {
      "text/html": [
       "<div>\n",
       "<style scoped>\n",
       "    .dataframe tbody tr th:only-of-type {\n",
       "        vertical-align: middle;\n",
       "    }\n",
       "\n",
       "    .dataframe tbody tr th {\n",
       "        vertical-align: top;\n",
       "    }\n",
       "\n",
       "    .dataframe thead th {\n",
       "        text-align: right;\n",
       "    }\n",
       "</style>\n",
       "<table border=\"1\" class=\"dataframe\">\n",
       "  <thead>\n",
       "    <tr style=\"text-align: right;\">\n",
       "      <th></th>\n",
       "      <th>Unnamed: 0</th>\n",
       "      <th>Title</th>\n",
       "      <th>Runtime</th>\n",
       "      <th>Genre</th>\n",
       "      <th>Wins</th>\n",
       "      <th>Nominations</th>\n",
       "      <th>Box Office</th>\n",
       "    </tr>\n",
       "  </thead>\n",
       "  <tbody>\n",
       "    <tr>\n",
       "      <th>6</th>\n",
       "      <td>6</td>\n",
       "      <td>12 Years a Slave</td>\n",
       "      <td>134</td>\n",
       "      <td>Biography, Drama, History</td>\n",
       "      <td>242</td>\n",
       "      <td>336</td>\n",
       "      <td>56671993</td>\n",
       "    </tr>\n",
       "    <tr>\n",
       "      <th>0</th>\n",
       "      <td>0</td>\n",
       "      <td>Parasite</td>\n",
       "      <td>132</td>\n",
       "      <td>Comedy, Drama, Thriller</td>\n",
       "      <td>308</td>\n",
       "      <td>271</td>\n",
       "      <td>53369749</td>\n",
       "    </tr>\n",
       "    <tr>\n",
       "      <th>1</th>\n",
       "      <td>1</td>\n",
       "      <td>Green Book</td>\n",
       "      <td>130</td>\n",
       "      <td>Biography, Comedy, Drama</td>\n",
       "      <td>59</td>\n",
       "      <td>124</td>\n",
       "      <td>85080171</td>\n",
       "    </tr>\n",
       "    <tr>\n",
       "      <th>4</th>\n",
       "      <td>4</td>\n",
       "      <td>Spotlight</td>\n",
       "      <td>129</td>\n",
       "      <td>Biography, Crime, Drama</td>\n",
       "      <td>124</td>\n",
       "      <td>143</td>\n",
       "      <td>45055776</td>\n",
       "    </tr>\n",
       "    <tr>\n",
       "      <th>2</th>\n",
       "      <td>2</td>\n",
       "      <td>The Shape of Water</td>\n",
       "      <td>123</td>\n",
       "      <td>Drama, Fantasy, Romance</td>\n",
       "      <td>138</td>\n",
       "      <td>358</td>\n",
       "      <td>63859435</td>\n",
       "    </tr>\n",
       "  </tbody>\n",
       "</table>\n",
       "</div>"
      ],
      "text/plain": [
       "   Unnamed: 0               Title  Runtime                      Genre  Wins  \\\n",
       "6           6    12 Years a Slave      134  Biography, Drama, History   242   \n",
       "0           0            Parasite      132    Comedy, Drama, Thriller   308   \n",
       "1           1          Green Book      130   Biography, Comedy, Drama    59   \n",
       "4           4           Spotlight      129    Biography, Crime, Drama   124   \n",
       "2           2  The Shape of Water      123    Drama, Fantasy, Romance   138   \n",
       "\n",
       "   Nominations  Box Office  \n",
       "6          336    56671993  \n",
       "0          271    53369749  \n",
       "1          124    85080171  \n",
       "4          143    45055776  \n",
       "2          358    63859435  "
      ]
     },
     "execution_count": 46,
     "metadata": {},
     "output_type": "execute_result"
    }
   ],
   "source": [
    "long = data.sort_values(\n",
    "...     by=\"Runtime\",\n",
    "...     ascending=False\n",
    "... )\n",
    "long.head()"
   ]
  },
  {
   "cell_type": "markdown",
   "id": "36a7bb94",
   "metadata": {},
   "source": [
    "To answer questions 1 and 2:\n",
    "  I created a bar chart with the runtime for each movie. \n",
    "  Then, I sorted the table by Runtime to find the longest runtime. \n",
    "  The longest runtime is 12 Years a Slave with a runtime of 134 mins. "
   ]
  },
  {
   "cell_type": "code",
   "execution_count": 47,
   "id": "bece477e",
   "metadata": {},
   "outputs": [
    {
     "name": "stdout",
     "output_type": "stream",
     "text": [
      "0.11770989138924326\n"
     ]
    }
   ],
   "source": [
    "print(data['Runtime'].corr(data['Wins']))"
   ]
  },
  {
   "cell_type": "code",
   "execution_count": 48,
   "id": "2c912c0e",
   "metadata": {},
   "outputs": [
    {
     "data": {
      "text/plain": [
       "<AxesSubplot:xlabel='Runtime', ylabel='Wins'>"
      ]
     },
     "execution_count": 48,
     "metadata": {},
     "output_type": "execute_result"
    },
    {
     "data": {
      "image/png": "[encoded data removed]",
      "text/plain": [
       "<Figure size 432x288 with 1 Axes>"
      ]
     },
     "metadata": {
      "needs_background": "light"
     },
     "output_type": "display_data"
    }
   ],
   "source": [
    "sns.scatterplot(x='Runtime', y='Wins', data=data)"
   ]
  },
  {
   "cell_type": "code",
   "execution_count": 50,
   "id": "f51a85ed",
   "metadata": {},
   "outputs": [
    {
     "data": {
      "image/png": "[encoded data removed]",
      "text/plain": [
       "<Figure size 432x288 with 1 Axes>"
      ]
     },
     "metadata": {
      "needs_background": "light"
     },
     "output_type": "display_data"
    }
   ],
   "source": [
    "noms_wins = data[['Title', 'Nominations', 'Wins']]\n",
    "\n",
    "x = noms_wins.groupby(['Title']).sum()\n",
    "x_ind=x.reset_index()\n",
    "x_ind.set_index('Title').plot(kind='bar', stacked=True, color=['yellow', 'blue'])\n",
    "\n",
    "plt.xlabel('Movie')\n",
    "plt.ylabel('Count of Nominations and Wins')\n",
    "plt.title('Nominations and Wins', fontsize=16)\n",
    "plt.show()"
   ]
  },
  {
   "cell_type": "code",
   "execution_count": 64,
   "id": "fa78ed16",
   "metadata": {},
   "outputs": [
    {
     "data": {
      "text/html": [
       "<div>\n",
       "<style scoped>\n",
       "    .dataframe tbody tr th:only-of-type {\n",
       "        vertical-align: middle;\n",
       "    }\n",
       "\n",
       "    .dataframe tbody tr th {\n",
       "        vertical-align: top;\n",
       "    }\n",
       "\n",
       "    .dataframe thead th {\n",
       "        text-align: right;\n",
       "    }\n",
       "</style>\n",
       "<table border=\"1\" class=\"dataframe\">\n",
       "  <thead>\n",
       "    <tr style=\"text-align: right;\">\n",
       "      <th></th>\n",
       "      <th>Nominations</th>\n",
       "      <th>Wins</th>\n",
       "    </tr>\n",
       "    <tr>\n",
       "      <th>Title</th>\n",
       "      <th></th>\n",
       "      <th></th>\n",
       "    </tr>\n",
       "  </thead>\n",
       "  <tbody>\n",
       "    <tr>\n",
       "      <th>12 Years a Slave</th>\n",
       "      <td>336</td>\n",
       "      <td>242</td>\n",
       "    </tr>\n",
       "    <tr>\n",
       "      <th>Argo</th>\n",
       "      <td>156</td>\n",
       "      <td>94</td>\n",
       "    </tr>\n",
       "    <tr>\n",
       "      <th>Birdman or (The Unexpected Virtue of Ignorance)</th>\n",
       "      <td>292</td>\n",
       "      <td>193</td>\n",
       "    </tr>\n",
       "    <tr>\n",
       "      <th>Green Book</th>\n",
       "      <td>124</td>\n",
       "      <td>59</td>\n",
       "    </tr>\n",
       "    <tr>\n",
       "      <th>Moonlight</th>\n",
       "      <td>296</td>\n",
       "      <td>228</td>\n",
       "    </tr>\n",
       "    <tr>\n",
       "      <th>Parasite</th>\n",
       "      <td>271</td>\n",
       "      <td>308</td>\n",
       "    </tr>\n",
       "    <tr>\n",
       "      <th>Spotlight</th>\n",
       "      <td>143</td>\n",
       "      <td>124</td>\n",
       "    </tr>\n",
       "    <tr>\n",
       "      <th>The Artist</th>\n",
       "      <td>204</td>\n",
       "      <td>162</td>\n",
       "    </tr>\n",
       "    <tr>\n",
       "      <th>The King's Speech</th>\n",
       "      <td>206</td>\n",
       "      <td>108</td>\n",
       "    </tr>\n",
       "    <tr>\n",
       "      <th>The Shape of Water</th>\n",
       "      <td>358</td>\n",
       "      <td>138</td>\n",
       "    </tr>\n",
       "  </tbody>\n",
       "</table>\n",
       "</div>"
      ],
      "text/plain": [
       "                                                 Nominations  Wins\n",
       "Title                                                             \n",
       "12 Years a Slave                                         336   242\n",
       "Argo                                                     156    94\n",
       "Birdman or (The Unexpected Virtue of Ignorance)          292   193\n",
       "Green Book                                               124    59\n",
       "Moonlight                                                296   228\n",
       "Parasite                                                 271   308\n",
       "Spotlight                                                143   124\n",
       "The Artist                                               204   162\n",
       "The King's Speech                                        206   108\n",
       "The Shape of Water                                       358   138"
      ]
     },
     "execution_count": 64,
     "metadata": {},
     "output_type": "execute_result"
    }
   ],
   "source": [
    "noms_wins = data[['Title', 'Nominations', 'Wins']]\n",
    "\n",
    "x = noms_wins.groupby(['Title']).sum()\n",
    "x"
   ]
  },
  {
   "cell_type": "code",
   "execution_count": 62,
   "id": "69e10552",
   "metadata": {},
   "outputs": [
    {
     "data": {
      "text/plain": [
       "[0    579\n",
       " 1    183\n",
       " 2    496\n",
       " 3    524\n",
       " 4    267\n",
       " 5    485\n",
       " 6    578\n",
       " 7    250\n",
       " 8    366\n",
       " 9    314\n",
       " dtype: int64]"
      ]
     },
     "execution_count": 62,
     "metadata": {},
     "output_type": "execute_result"
    }
   ],
   "source": [
    "sum = [(data['Nominations'] + data['Wins'])]\n",
    "sum"
   ]
  },
  {
   "cell_type": "code",
   "execution_count": null,
   "id": "2f04eafb",
   "metadata": {},
   "outputs": [],
   "source": []
  }
 ],
 "metadata": {
  "kernelspec": {
   "display_name": "Python 3 (ipykernel)",
   "language": "python",
   "name": "python3"
  },
  "language_info": {
   "codemirror_mode": {
    "name": "ipython",
    "version": 3
   },
   "file_extension": ".py",
   "mimetype": "text/x-python",
   "name": "python",
   "nbconvert_exporter": "python",
   "pygments_lexer": "ipython3",
   "version": "3.9.7"
  }
 },
 "nbformat": 4,
 "nbformat_minor": 5
}
